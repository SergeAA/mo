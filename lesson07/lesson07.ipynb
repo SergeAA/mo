{
 "cells": [
  {
   "cell_type": "markdown",
   "metadata": {},
   "source": [
    "# ДЗ №7\n",
    "\n",
    "Выбрать один из алгоритмов представленных по ссылке и реализовать его.\n",
    "https://coderlessons.com/tutorials/akademicheskii/izuchite-geneticheskie-algoritmy/geneticheskie-algoritmy-krossover\n",
    "\n",
    "*вы также можете попробовать подставить его в реализацию в методичке, часть 1"
   ]
  },
  {
   "cell_type": "code",
   "execution_count": 39,
   "metadata": {
    "ExecuteTime": {
     "end_time": "2020-07-29T08:57:07.889749Z",
     "start_time": "2020-07-29T08:57:07.875433Z"
    },
    "colab": {},
    "colab_type": "code",
    "id": "thz4sGKHYzaE"
   },
   "outputs": [],
   "source": [
    "from typing import Dict\n",
    "from copy import deepcopy\n",
    "from tqdm import tqdm\n",
    "\n",
    "import random\n",
    "import numpy as np\n",
    "import pandas as pd\n",
    "import xgboost as xgb\n",
    "\n",
    "from sklearn.metrics import roc_auc_score\n",
    "from sklearn.model_selection import train_test_split\n",
    "from IPython.display import clear_output\n",
    "\n",
    "import seaborn as sns\n",
    "import matplotlib.pyplot as plt"
   ]
  },
  {
   "cell_type": "code",
   "execution_count": 40,
   "metadata": {
    "ExecuteTime": {
     "end_time": "2020-07-29T08:57:09.239294Z",
     "start_time": "2020-07-29T08:57:09.195420Z"
    },
    "code_folding": [
     0
    ],
    "colab": {},
    "colab_type": "code",
    "id": "srdfQ1ljYzaN"
   },
   "outputs": [],
   "source": [
    "def init_population(number_of_parents: int) -> Dict[str, np.array]:\n",
    "    \"\"\"\n",
    "    Инициализация начальной популяции генетического алгоритма.\n",
    "\n",
    "    Parameters\n",
    "    ----------\n",
    "    number_of_parents: int\n",
    "        Количество родителей в популяции.\n",
    "\n",
    "    Returns\n",
    "    -------\n",
    "    population: dict, Dict[str, np.array]\n",
    "        Словарь с начальной популяцией.\n",
    "\n",
    "    \"\"\"\n",
    "    population = {\n",
    "        \"max_depth\": np.empty([number_of_parents, 1], dtype=np.uint8),\n",
    "        \"min_child_weight\": np.empty([number_of_parents, 1], dtype=np.uint8),\n",
    "        \"subsample\": np.empty([number_of_parents, 1]),\n",
    "        \"colsample_bytree\": np.empty([number_of_parents, 1]),\n",
    "        \"gamma\": np.empty([number_of_parents, 1])\n",
    "    }\n",
    "\n",
    "    for i in range(number_of_parents):\n",
    "        population[\"max_depth\"][i] = round(\n",
    "            random.randrange(1, 10, step=1)\n",
    "        )\n",
    "        population[\"min_child_weight\"][i] = round(\n",
    "            random.uniform(0.01, 10), 2\n",
    "        )\n",
    "        population[\"subsample\"][i] = round(\n",
    "            random.uniform(0.01, 1), 2\n",
    "        )\n",
    "        population[\"colsample_bytree\"][i] = round(\n",
    "            random.uniform(0.01, 1), 2\n",
    "        )\n",
    "        population[\"gamma\"][i] = round(\n",
    "            random.uniform(0.01, 10), 2\n",
    "        )\n",
    "    return population\n",
    "\n",
    "def train_population(population,\n",
    "                     xgb_train: xgb.DMatrix,\n",
    "                     xgb_valid: xgb.DMatrix,\n",
    "                     y_valid: pd.Series\n",
    "                     ):\n",
    "    \"\"\"\n",
    "    Обучение модели на каждом значении population.\n",
    "    После обучения модели, производится оценка качества\n",
    "    модели с помощью метрики ROC-AUC на данных xgb_valid.\n",
    "\n",
    "    Parameters\n",
    "    ----------\n",
    "    population: numpy.array\n",
    "        Матрица с текущим значением популяции.\n",
    "\n",
    "    xgb_train: xgb.DMatrix\n",
    "        Выборка для обучения модели, в формате xgboost.DMatrix.\n",
    "\n",
    "    xgb_valid: xgb.DMatrix\n",
    "        Выборка для тестирования модели, в формате xgboost.DMatrix.\n",
    "\n",
    "    y_valid: pd.Series\n",
    "        Значение целевой переменной для тестирования модели.\n",
    "\n",
    "    Returns\n",
    "    -------\n",
    "    scores: List[float]\n",
    "        Список со значеним метрик качества.\n",
    "\n",
    "    \"\"\"\n",
    "    scores = []\n",
    "    for i in range(population.shape[0]):\n",
    "        xgb_params = {\n",
    "            \"booster\": \"gbtree\",\n",
    "            \"objective\": \"binary:logistic\",\n",
    "            \"learning_rate\": 0.1,\n",
    "            \"max_depth\": int(population[i][0]),\n",
    "            \"min_child_weight\": population[i][1],\n",
    "            \"subsample\": population[i][2],\n",
    "            \"colsample_bytree\": population[i][3],\n",
    "            \"gamma\": population[i][4],\n",
    "            \"eval_metric\": \"auc\",\n",
    "            \"nthread\": 6,\n",
    "            \"seed\": 27\n",
    "        }\n",
    "        model = xgb.train(\n",
    "            params=xgb_params,\n",
    "            dtrain=xgb_train,\n",
    "            evals=[(xgb_train, \"train\"), (xgb_valid, \"valid\")],\n",
    "            early_stopping_rounds=50,\n",
    "            num_boost_round=1000,\n",
    "            verbose_eval=25,\n",
    "        )\n",
    "        y_pred = model.predict(xgb_valid)\n",
    "        score = roc_auc_score(y_valid, y_pred)\n",
    "        scores.append(score)\n",
    "        print(\"=\"*84)\n",
    "\n",
    "    return scores\n",
    "\n",
    "def select_new_parents(population: np.array, scores: list, num_parents: int):\n",
    "    \"\"\"\n",
    "    Выбор оптимальный параметров популяции на основе\n",
    "    значений метрики качества ROC-AUC.\n",
    "\n",
    "    Parameters\n",
    "    ----------\n",
    "    population: np.array\n",
    "        Матрица с текущим значением популяции.\n",
    "\n",
    "    scores: List[float]\n",
    "        Список со значениями метрики качества.\n",
    "\n",
    "    num_parents: int\n",
    "        Количество родителей, которые требуется отобрать.\n",
    "\n",
    "    Returns\n",
    "    -------\n",
    "    selected_parents: np.array\n",
    "        Значение популяции, отобранное на основе метрики качества.\n",
    "\n",
    "    \"\"\"\n",
    "    scores = deepcopy(scores)\n",
    "    selected_parents = np.empty((\n",
    "        num_parents, population.shape[1]\n",
    "    ))\n",
    "\n",
    "    for parent_id in range(num_parents):\n",
    "        best_result_id = np.where(scores == np.max(scores))\n",
    "        best_result_id = best_result_id[0][0]\n",
    "\n",
    "        selected_parents[parent_id, :] = population[best_result_id, :]\n",
    "        scores[best_result_id] = -1\n",
    "\n",
    "    return selected_parents\n",
    "\n",
    "def mutation(crossover, number_of_parameters):\n",
    "    \"\"\"\n",
    "    Мутация объектов популяции, получение новых значений\n",
    "    гиперпараметров для проверки гипотезы о повышении качества\n",
    "    работы модели.\n",
    "\n",
    "    Parameters\n",
    "    ----------\n",
    "    crossover: np.array\n",
    "        Исходные объекты популяции.\n",
    "\n",
    "    number_of_parameters: int\n",
    "        Количество параметров.\n",
    "\n",
    "    Returns\n",
    "    -------\n",
    "    crossover: np.array\n",
    "        Мутированные объекты популяции.\n",
    "\n",
    "    \"\"\"\n",
    "    min_max_values = np.zeros((number_of_parameters, 2))\n",
    "\n",
    "    min_max_values[0, :] = [1, 15] # ограничение для max_depth\n",
    "    min_max_values[1, :] = [0, 10] # ограничение для min_child_weight\n",
    "    min_max_values[2, :] = [0.01, 1] # ограничение для subsample\n",
    "    min_max_values[3, :] = [0.01, 1] # ограничение для colsample_bytree\n",
    "    min_max_values[4, :] = [0.01, 10] # ограничение для gamma\n",
    "    parameter_selected = np.random.randint(0, 5, 1)\n",
    "\n",
    "    if parameter_selected == 0:\n",
    "        mutation_value = np.random.randint(-5, 5, 1)\n",
    "    elif parameter_selected == 1:\n",
    "        mutation_value = round(np.random.uniform(5, 5), 2)\n",
    "    elif parameter_selected == 2:\n",
    "        mutation_value = round(np.random.uniform(-0.5, 0.5), 2)\n",
    "    elif parameter_selected == 3:\n",
    "        mutation_value = round(np.random.uniform(-0.5, 0.5), 2)\n",
    "    elif parameter_selected == 4:\n",
    "        mutation_value = round(np.random.uniform(-2, 2), 2)\n",
    "\n",
    "    for idx in range(crossover.shape[0]):\n",
    "        crossover[idx, parameter_selected] = crossover[idx, parameter_selected] + mutation_value\n",
    "        if crossover[idx, parameter_selected] > min_max_values[parameter_selected, 1]:\n",
    "            crossover[idx, parameter_selected] = min_max_values[parameter_selected, 1]\n",
    "        else:\n",
    "            crossover[idx, parameter_selected] = min_max_values[parameter_selected, 0]\n",
    "\n",
    "    return crossover"
   ]
  },
  {
   "cell_type": "code",
   "execution_count": 41,
   "metadata": {
    "ExecuteTime": {
     "end_time": "2020-07-29T08:57:14.849214Z",
     "start_time": "2020-07-29T08:57:10.148239Z"
    },
    "code_folding": [],
    "colab": {},
    "colab_type": "code",
    "id": "4jzg5Ay7YzaK"
   },
   "outputs": [],
   "source": [
    "data = pd.read_csv(\"../data/train.csv\")\n",
    "data = data.sample(50000).reset_index(drop=True)\n",
    "\n",
    "x_train, x_valid = train_test_split(\n",
    "    data, train_size=15000, random_state=1\n",
    ")\n",
    "x_train = x_train.reset_index(drop=True)\n",
    "x_valud = x_valid.reset_index(drop=True)\n",
    "\n",
    "y_train, y_valid = x_train[\"TARGET\"], x_valid[\"TARGET\"]\n",
    "\n",
    "num_features = x_train.select_dtypes(exclude=[\"object\"]).columns\n",
    "x_train, x_valid = x_train[num_features], x_valid[num_features]\n",
    "\n",
    "to_drop = [\"SK_ID_CURR\", \"TARGET\"]\n",
    "x_train = x_train.drop(to_drop, axis=1)\n",
    "x_valid = x_valid.drop(to_drop, axis=1)\n",
    "\n",
    "xgb_train = xgb.DMatrix(\n",
    "    data=x_train, label=y_train\n",
    ")\n",
    "xgb_valid = xgb.DMatrix(\n",
    "    data=x_valid, label=y_valid\n",
    ")"
   ]
  },
  {
   "cell_type": "markdown",
   "metadata": {
    "colab_type": "text",
    "id": "lSZ-yOOvYzaZ"
   },
   "source": [
    "## ONE POINT Crossover"
   ]
  },
  {
   "cell_type": "code",
   "execution_count": 42,
   "metadata": {
    "ExecuteTime": {
     "end_time": "2020-07-29T08:57:14.860257Z",
     "start_time": "2020-07-29T08:57:14.853379Z"
    },
    "colab": {},
    "colab_type": "code",
    "id": "FTEWIqeJYzaa"
   },
   "outputs": [],
   "source": [
    "def crossover_onepoint(parents, children_size):\n",
    "    point = np.random.randint(children_size[1])\n",
    "    children = np.empty(children_size)\n",
    "    \n",
    "    for i in range(children_size[0]):\n",
    "        parent1_idx = i % parents.shape[0]\n",
    "        parent2_idx = (i+1) % parents.shape[0]\n",
    "\n",
    "        children[i, :point] = parents[parent1_idx, :point]\n",
    "        children[i, point:] = parents[parent2_idx, point:]\n",
    "\n",
    "    return children"
   ]
  },
  {
   "cell_type": "markdown",
   "metadata": {
    "colab_type": "text",
    "id": "DOVGGEXQYzae"
   },
   "source": [
    "## Вычислительный эксперимент"
   ]
  },
  {
   "cell_type": "code",
   "execution_count": 43,
   "metadata": {
    "ExecuteTime": {
     "end_time": "2020-07-29T09:01:42.643696Z",
     "start_time": "2020-07-29T08:57:14.864151Z"
    },
    "colab": {},
    "colab_type": "code",
    "id": "wMk2Z5rxYzaf",
    "scrolled": false
   },
   "outputs": [
    {
     "name": "stderr",
     "output_type": "stream",
     "text": [
      "\n",
      "\n",
      "\n",
      "\n",
      "\n",
      "\n",
      "\n",
      "100%|██████████| 6/6 [04:27<00:00, 44.62s/it]\u001b[A\u001b[A\u001b[A\u001b[A\u001b[A\u001b[A\u001b[A\n"
     ]
    }
   ],
   "source": [
    "number_of_parents = 8\n",
    "number_of_parents_mating = 4\n",
    "number_of_parameters = 5\n",
    "number_of_generation = 6\n",
    "\n",
    "population_size = (number_of_parents, number_of_parameters)\n",
    "scores_history = np.empty([number_of_generation+1, number_of_parents])\n",
    "\n",
    "params_history = np.empty([(number_of_generation+1) * number_of_parents, number_of_parameters])\n",
    "\n",
    "population = init_population(number_of_parents)\n",
    "\n",
    "population = np.concatenate((\n",
    "    population[\"max_depth\"],\n",
    "    population[\"min_child_weight\"],\n",
    "    population[\"subsample\"],\n",
    "    population[\"colsample_bytree\"],\n",
    "    population[\"gamma\"]), axis=1)\n",
    "\n",
    "params_history[0:number_of_parents, :] = population\n",
    "\n",
    "for generation in tqdm(range(number_of_generation)):\n",
    "    best_score, mean_score = np.max(scores_history), np.mean(scores_history)\n",
    "    print(f\"All-history: Best ROC-AUC = {round(best_score, 4)}, Mean ROC-AUC = {round(mean_score, 4)}\")\n",
    "\n",
    "    scores = train_population(\n",
    "        population=population,\n",
    "        xgb_train=xgb_train,\n",
    "        xgb_valid=xgb_valid,\n",
    "       y_valid=y_valid)\n",
    "\n",
    "    scores_history[generation, :] = scores\n",
    "\n",
    "    parents = select_new_parents(\n",
    "        population=population,\n",
    "        scores=scores,\n",
    "        num_parents=4)\n",
    "\n",
    "    children = crossover_onepoint(\n",
    "        parents=parents,\n",
    "        children_size=(population_size[0] - parents.shape[0], 5)\n",
    "    )\n",
    "    children_mutated = mutation(children, number_of_parameters=5)\n",
    "    population[0:parents.shape[0], :] = parents\n",
    "    population[parents.shape[0]:, :] = children_mutated\n",
    "\n",
    "    params_history[(generation+1)*8 : (generation+1)*8+8 , :] = population\n",
    "    clear_output()\n",
    "\n",
    "scores_history = pd.DataFrame(scores_history)\n",
    "scores_history = scores_history.loc[:5]"
   ]
  },
  {
   "cell_type": "code",
   "execution_count": 44,
   "metadata": {
    "ExecuteTime": {
     "end_time": "2020-07-29T09:01:43.716671Z",
     "start_time": "2020-07-29T09:01:42.660094Z"
    },
    "colab": {},
    "colab_type": "code",
    "id": "xy9TrK2-Yzal",
    "outputId": "7af141f0-4cb8-4c94-d6e3-ace6e609b707"
   },
   "outputs": [
    {
     "data": {
      "text/plain": [
       "<matplotlib.axes._subplots.AxesSubplot at 0x1a25450160>"
      ]
     },
     "execution_count": 44,
     "metadata": {},
     "output_type": "execute_result"
    },
    {
     "data": {
      "image/png": "[encoded data removed]",
      "text/plain": [
       "<Figure size 720x576 with 2 Axes>"
      ]
     },
     "metadata": {
      "needs_background": "light"
     },
     "output_type": "display_data"
    }
   ],
   "source": [
    "fig, axes = plt.subplots(1, 1, figsize=(10, 8))\n",
    "sns.heatmap(scores_history, annot=True, fmt='.4g', linewidths=1, ax=axes)"
   ]
  }
 ],
 "metadata": {
  "colab": {
   "collapsed_sections": [],
   "name": "МО. Генетика. Часть 1.ipynb",
   "provenance": []
  },
  "kernelspec": {
   "display_name": "Python 3",
   "language": "python",
   "name": "python3"
  },
  "language_info": {
   "codemirror_mode": {
    "name": "ipython",
    "version": 3
   },
   "file_extension": ".py",
   "mimetype": "text/x-python",
   "name": "python",
   "nbconvert_exporter": "python",
   "pygments_lexer": "ipython3",
   "version": "3.7.1"
  },
  "toc": {
   "base_numbering": 1,
   "nav_menu": {},
   "number_sections": true,
   "sideBar": true,
   "skip_h1_title": false,
   "title_cell": "Table of Contents",
   "title_sidebar": "Contents",
   "toc_cell": false,
   "toc_position": {},
   "toc_section_display": true,
   "toc_window_display": false
  }
 },
 "nbformat": 4,
 "nbformat_minor": 1
}
